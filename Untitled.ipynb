{
 "cells": [
  {
   "cell_type": "code",
   "execution_count": 115,
   "metadata": {},
   "outputs": [
    {
     "name": "stdout",
     "output_type": "stream",
     "text": [
      "4\n",
      "1\n",
      "11\n",
      "202\n",
      "3003\n"
     ]
    }
   ],
   "source": [
    "n = int(input()) \n",
    "i=0\n",
    "while(i<n): \n",
    "    j=0 \n",
    "    while(j<i+1):\n",
    "        if(j==0 or j==i):\n",
    "            if(i==0):\n",
    "                print(\"1\",end='')\n",
    "            else:\n",
    "                print(i,end='') \n",
    "        else: print(0,end='') \n",
    "        j=j+1 \n",
    "    i=i+1 \n",
    "    print()"
   ]
  },
  {
   "cell_type": "code",
   "execution_count": null,
   "metadata": {},
   "outputs": [],
   "source": []
  },
  {
   "cell_type": "code",
   "execution_count": null,
   "metadata": {},
   "outputs": [],
   "source": [
    "n=int(input())\n",
    "i=1\n",
    "while i<=n:\n",
    "    j=1\n",
    "    while j<=i:\n",
    "        print(\"*\",end='')\n",
    "        j=j+1\n",
    "    print()\n",
    "    i=i+1"
   ]
  },
  {
   "cell_type": "code",
   "execution_count": 27,
   "metadata": {},
   "outputs": [
    {
     "name": "stdout",
     "output_type": "stream",
     "text": [
      "5\n",
      "E\n",
      "DE\n",
      "CDE\n",
      "BCDE\n",
      "ABCDE\n"
     ]
    }
   ],
   "source": [
    "n=int(input())\n",
    "i=1\n",
    "while i<=n:\n",
    "    j=1\n",
    "    sh=chr(ord('A')+n-1)\n",
    "    while j<=i:\n",
    "        ch=chr(ord(sh)+j-i)\n",
    "        print(ch,end='')\n",
    "        j=j+1\n",
    "    print()\n",
    "    i=i+1"
   ]
  },
  {
   "cell_type": "code",
   "execution_count": 16,
   "metadata": {},
   "outputs": [
    {
     "data": {
      "text/plain": [
       "'B'"
      ]
     },
     "execution_count": 16,
     "metadata": {},
     "output_type": "execute_result"
    }
   ],
   "source": [
    "chr(66)"
   ]
  },
  {
   "cell_type": "code",
   "execution_count": 3,
   "metadata": {},
   "outputs": [
    {
     "name": "stdout",
     "output_type": "stream",
     "text": [
      "4\n",
      "A\n",
      "BB\n",
      "CCC\n",
      "DDDD\n"
     ]
    }
   ],
   "source": [
    "n=int(input())\n",
    "i=1\n",
    "while i<=n:\n",
    "    j=1\n",
    "    sh=chr(ord('A')+i-1)\n",
    "    while j<=i:\n",
    "        ch=chr(ord(sh))\n",
    "        print(ch,end='')\n",
    "        j=j+1\n",
    "    print()\n",
    "    i=i+1"
   ]
  },
  {
   "cell_type": "code",
   "execution_count": 8,
   "metadata": {},
   "outputs": [
    {
     "name": "stdout",
     "output_type": "stream",
     "text": [
      "7\n"
     ]
    }
   ],
   "source": []
  },
  {
   "cell_type": "code",
   "execution_count": 17,
   "metadata": {},
   "outputs": [
    {
     "name": "stdout",
     "output_type": "stream",
     "text": [
      "4\n",
      "   1\n",
      "  22\n",
      " 333\n",
      "4444\n"
     ]
    }
   ],
   "source": [
    "n=int(input())\n",
    "i=1\n",
    "while i<=n:\n",
    "    spaces=1\n",
    "    while spaces<=n-i:\n",
    "        print(\" \",end='')\n",
    "        spaces=spaces+1\n",
    "    j=1\n",
    "    while j<=i:\n",
    "        print(i,end='')\n",
    "        j=j+1\n",
    "    print()\n",
    "    i=i+1\n",
    "    "
   ]
  },
  {
   "cell_type": "code",
   "execution_count": 13,
   "metadata": {},
   "outputs": [
    {
     "name": "stdout",
     "output_type": "stream",
     "text": [
      "4\n",
      "   *\n",
      "  ***\n",
      " *****\n",
      "*******\n"
     ]
    }
   ],
   "source": [
    "n = int(input())\n",
    "i = 1\n",
    "while i <= n:\n",
    "    spaces = 1\n",
    "    # spaces\n",
    "    while spaces <= n - i:\n",
    "        print(' ', end='')\n",
    "        spaces = spaces + 1\n",
    "    p = 1\n",
    "    j = 1\n",
    "    # increasing seq\n",
    "    while j <= i:\n",
    "        print('*', end='')\n",
    "        j = j + 1\n",
    "        p = p + 1\n",
    "    # decreasing seq\n",
    "    p = i - 1\n",
    "    while p >= 1:\n",
    "        print('*', end='')\n",
    "        p = p -1\n",
    "    print()\n",
    "    i = i + 1"
   ]
  },
  {
   "cell_type": "code",
   "execution_count": 204,
   "metadata": {},
   "outputs": [
    {
     "name": "stdout",
     "output_type": "stream",
     "text": [
      "10\n",
      "1 2 3 4 5 6 7 8 9 10 \n",
      "21 22 23 24 25 26 27 28 29 30 \n",
      "41 42 43 44 45 46 47 48 49 50 \n",
      "61 62 63 64 65 66 67 68 69 70 \n",
      "81 82 83 84 85 86 87 88 89 90 \n",
      "91 92 93 94 95 96 97 98 99 100 \n",
      "71 72 73 74 75 76 77 78 79 80 \n",
      "51 52 53 54 55 56 57 58 59 60 \n",
      "31 32 33 34 35 36 37 38 39 40 \n",
      "11 12 13 14 15 16 17 18 19 20 \n"
     ]
    }
   ],
   "source": [
    "n=int(input())\n",
    "n1=(n+1)//2\n",
    "n2=n//2\n",
    "p=0\n",
    "for i in range(1,n1+1,1):\n",
    "        for j in range(1,n+1,1):\n",
    "            print((2*i-2)*n+j,\"\",end=\"\")\n",
    "        print() \n",
    "a=1\n",
    "for a in range(n2,a-1,-1):\n",
    "    for z in range(1,n+1,1):\n",
    "        print((2*a-1)*n+z,\"\",end=\"\")\n",
    "    print()"
   ]
  },
  {
   "cell_type": "markdown",
   "metadata": {},
   "source": [
    " "
   ]
  },
  {
   "cell_type": "code",
   "execution_count": 136,
   "metadata": {},
   "outputs": [
    {
     "name": "stdout",
     "output_type": "stream",
     "text": [
      "3\n",
      "33333\n",
      "33333\n",
      "33133\n",
      "33333\n",
      "33333\n"
     ]
    }
   ],
   "source": [
    "n=int(input())\n",
    "for i in range(1,2*n,1):\n",
    "    j=1\n",
    "    for j in range(1,2*n,1):\n",
    "        \n",
    "            if i==j==n:\n",
    "                print(\"1\",end=\"\")\n",
    "            else:\n",
    "                print(n,end=\"\")\n",
    "            \n",
    "        \n",
    "    print()"
   ]
  },
  {
   "cell_type": "markdown",
   "metadata": {},
   "source": [
    "1 2 3 4 5 6 \n",
    "13 14 15 16 17 18 \n",
    "25 26 27 28 29 30 \n",
    "31 32 33 34 35 36 \n",
    "19 20 21 22 23 24 \n",
    "7 8 9 10 11 12 \n"
   ]
  },
  {
   "cell_type": "code",
   "execution_count": 160,
   "metadata": {},
   "outputs": [
    {
     "name": "stdout",
     "output_type": "stream",
     "text": [
      "5\n",
      "1 2 3 4 5 \n",
      "11 12 13 14 15 \n",
      "16 17 18 19 20 \n",
      "21 22 23 24 25 \n",
      "6 7 8 9 10 \n"
     ]
    }
   ],
   "source": [
    "n=int(input())\n",
    "for i in range(1,n+1,1):\n",
    "    j=1\n",
    "    for j in range(1,n+1,1):\n",
    "        if i==1:\n",
    "            print(j,\"\",end=\"\")\n",
    "        elif i==n:\n",
    "            print(n+j,\"\",end=\"\")\n",
    "        else:\n",
    "            print(n*i+j,\"\", end=\"\")\n",
    "    print()"
   ]
  },
  {
   "cell_type": "code",
   "execution_count": 215,
   "metadata": {},
   "outputs": [
    {
     "name": "stdout",
     "output_type": "stream",
     "text": [
      "5\n",
      "0\n",
      "1\n",
      "2\n",
      "3\n",
      "4\n",
      "5\n",
      "6\n",
      "7\n",
      "8\n"
     ]
    }
   ],
   "source": [
    "n=int(input())\n",
    "for i in range(2*n-1):\n",
    "    print(i)"
   ]
  },
  {
   "cell_type": "code",
   "execution_count": 217,
   "metadata": {},
   "outputs": [
    {
     "name": "stdout",
     "output_type": "stream",
     "text": [
      "3\n",
      "33333\n",
      "32223\n",
      "32123\n",
      "32223\n",
      "33333\n"
     ]
    }
   ],
   "source": [
    "n=int(input())\n",
    "for i in range(2*n-1):\n",
    "    if i<n:\n",
    "        k=i\n",
    "    else:\n",
    "        k=2*(n-1)-i\n",
    "    for j in range(0,k):\n",
    "        print(n-j,end='')\n",
    "    for j in range(0,2*(n-k)-1):\n",
    "        print(n-k,end='')\n",
    "    for j in range(k-1,-1,-1):\n",
    "        print(n-j,end='')\n",
    "    print()"
   ]
  },
  {
   "cell_type": "code",
   "execution_count": 214,
   "metadata": {},
   "outputs": [
    {
     "name": "stdout",
     "output_type": "stream",
     "text": [
      "5\n",
      "555555555\n",
      "544444445\n",
      "543333345\n",
      "543222345\n",
      "543212345\n",
      "543222345\n",
      "543333345\n",
      "544444445\n",
      "555555555\n"
     ]
    }
   ],
   "source": [
    "n = int(input())\n",
    "for i in range(1,n+1): \n",
    "    temp = n \n",
    "    for j in range(1,i):\n",
    "        print(temp,end=\"\")\n",
    "        temp = temp -1 \n",
    "    for j in range(1,(2*n) - (2*i) + 2): \n",
    "        print(n-i+1,end=\"\") \n",
    "    for j in range(1,i):\n",
    "        temp = temp+1 \n",
    "        print(temp,end=\"\")\n",
    "    print()\n",
    "for i in range(n-1,0,-1):\n",
    "    temp = n \n",
    "    for j in range(1,i):\n",
    "        print(temp,end=\"\") \n",
    "        temp = temp - 1 \n",
    "    for j in range(1,(2*n) - (2*i) + 2):\n",
    "        print(n-i+1,end=\"\") \n",
    "    for j in range(1,i): \n",
    "        temp = temp+1 \n",
    "        print(temp,end=\"\") \n",
    "    print()"
   ]
  },
  {
   "cell_type": "code",
   "execution_count": null,
   "metadata": {},
   "outputs": [],
   "source": [
    "while start <= end : \n",
    "    cel = (5/9)*(start - 32) \n",
    "    print(str(start)+\"\\t\"+str(int(cel))) \n",
    "    start = start + w"
   ]
  },
  {
   "cell_type": "code",
   "execution_count": 10,
   "metadata": {},
   "outputs": [
    {
     "name": "stdout",
     "output_type": "stream",
     "text": [
      "32\n",
      "100\n",
      "2\n",
      "32\t0\n",
      "34\t1\n",
      "36\t2\n",
      "38\t3\n",
      "40\t4\n",
      "42\t5\n",
      "44\t6\n",
      "46\t7\n",
      "48\t8\n",
      "50\t10\n",
      "52\t11\n",
      "54\t12\n",
      "56\t13\n",
      "58\t14\n",
      "60\t15\n",
      "62\t16\n",
      "64\t17\n",
      "66\t18\n",
      "68\t20\n",
      "70\t21\n",
      "72\t22\n",
      "74\t23\n",
      "76\t24\n",
      "78\t25\n",
      "80\t26\n",
      "82\t27\n",
      "84\t28\n",
      "86\t30\n",
      "88\t31\n",
      "90\t32\n",
      "92\t33\n",
      "94\t34\n",
      "96\t35\n",
      "98\t36\n",
      "100\t37\n"
     ]
    }
   ],
   "source": [
    "def printTable(start,end,step):\n",
    "    while start<=end:\n",
    "        cel = (5/9)*(start - 32)\n",
    "        print(str(start)+\"\\t\"+str(int(cel)))\n",
    "        start=start+step\n",
    "s = int(input())\n",
    "e = int(input())\n",
    "step = int(input())\n",
    "printTable(s,e,step)\n"
   ]
  },
  {
   "cell_type": "code",
   "execution_count": 17,
   "metadata": {},
   "outputs": [
    {
     "name": "stdout",
     "output_type": "stream",
     "text": [
      "123\n",
      "false\n"
     ]
    }
   ],
   "source": [
    "Reverse = 0    \n",
    "num = int(input())\n",
    "a=num\n",
    "while(a> 0): \n",
    "    Reminder = a %10    \n",
    "    Reverse = (Reverse *10) + Reminder    \n",
    "    a = a//10 \n",
    "if(Reverse==num):\n",
    "    print('true')\n",
    "else:\n",
    "    print('false')"
   ]
  },
  {
   "cell_type": "code",
   "execution_count": 40,
   "metadata": {
    "scrolled": true
   },
   "outputs": [
    {
     "name": "stdout",
     "output_type": "stream",
     "text": [
      "1223445\n",
      "false\n"
     ]
    }
   ],
   "source": [
    "def checkPalindrome(num):\n",
    "    Reverse=0\n",
    "    a=num\n",
    "    while(a> 0): \n",
    "        Reminder = a %10    \n",
    "        Reverse = (Reverse *10) + Reminder    \n",
    "        a = a//10 \n",
    "        \n",
    "    return Reverse\n",
    "    \n",
    "num = int(input())\n",
    "checkPalindrome(num)\n",
    "\n",
    "isPalindrome = checkPalindrome(num)\n",
    "if(isPalindrome==num):\n",
    "\tprint('true')\n",
    "else:\n",
    "\tprint('false')"
   ]
  },
  {
   "cell_type": "code",
   "execution_count": 70,
   "metadata": {},
   "outputs": [
    {
     "name": "stdout",
     "output_type": "stream",
     "text": [
      "7\n",
      "false\n"
     ]
    }
   ],
   "source": [
    "import math\n",
    "def checkMember(n):\n",
    "    phi = 0.5 + 0.5 * math.sqrt(5.0)\n",
    "    a = phi * n\n",
    "    return n == 0 or abs(round(a) - a) < 1.0 / n\n",
    "n=int(input())\n",
    "if(checkMember(n)):\n",
    "    print(\"true\")\n",
    "else:\n",
    "    print(\"false\")"
   ]
  },
  {
   "cell_type": "code",
   "execution_count": 62,
   "metadata": {},
   "outputs": [
    {
     "data": {
      "text/plain": [
       "21"
      ]
     },
     "execution_count": 62,
     "metadata": {},
     "output_type": "execute_result"
    }
   ],
   "source": [
    "\n",
    "def checkMember(n):\n",
    "    f=0\n",
    "    s=1\n",
    "    for x in range(0,n+1):\n",
    "        next=f+s                           \n",
    "        f=s\n",
    "        s=next\n",
    "    return f\n",
    "checkMember(7)"
   ]
  },
  {
   "cell_type": "markdown",
   "metadata": {},
   "source": [
    "   F(n) = F(n-1) + F(n-2)"
   ]
  },
  {
   "cell_type": "code",
   "execution_count": 5,
   "metadata": {},
   "outputs": [
    {
     "name": "stdout",
     "output_type": "stream",
     "text": [
      "4\n",
      "1 2 3 2\n",
      "2\n",
      "2 3\n",
      "2\n",
      "3\n"
     ]
    }
   ],
   "source": [
    "n=int(input())\n",
    "li1=[int(x) for x in input().split()]\n",
    "n2=int(input())\n",
    "li2=[int(x) for x in input().split()]\n",
    "c=[]\n",
    "for i in li1:\n",
    "    if i in li2:\n",
    "        li2.remove(i)\n",
    "        c.append(i)\n",
    "for i in c:\n",
    "    print(i)\n",
    "    "
   ]
  },
  {
   "cell_type": "markdown",
   "metadata": {},
   "source": []
  },
  {
   "cell_type": "code",
   "execution_count": 23,
   "metadata": {},
   "outputs": [
    {
     "name": "stdout",
     "output_type": "stream",
     "text": [
      "4\n",
      "0 1 0 1\n",
      "[1, 1, 0, 0] "
     ]
    }
   ],
   "source": [
    "n=int(input())\n",
    "li=[int(x) for x in input().split()]\n",
    "for i in range(0,n-1):\n",
    "    j=0\n",
    "    for i in range(n-1): \n",
    "        if li[i]==0:\n",
    "            li[i],li[i+1]=li[i+1],li[i]\n",
    "for x in range(len(li)): \n",
    "    print(li[x],end=\" \")"
   ]
  },
  {
   "cell_type": "code",
   "execution_count": 27,
   "metadata": {},
   "outputs": [
    {
     "name": "stdout",
     "output_type": "stream",
     "text": [
      "4\n",
      "0 1 0 1\n",
      "0 0 1 1 "
     ]
    }
   ],
   "source": [
    "n=int(input())\n",
    "a=[int(x) for x in input().split()]\n",
    "def sortBinaryArray(a, n): \n",
    "    j = -1\n",
    "    for i in range(n): \n",
    "  \n",
    "        # if number is smaller \n",
    "        # than 1 then swap it \n",
    "        # with j-th number \n",
    "        if a[i] < 1: \n",
    "            j = j + 1\n",
    "              \n",
    "            # swap \n",
    "            a[i], a[j] = a[j], a[i] \n",
    "      \n",
    "  \n",
    "\n",
    "n = len(a) \n",
    "  \n",
    "sortBinaryArray(a, n) \n",
    "  \n",
    "for i in range(n): \n",
    "        print(a[i], end = \" \")"
   ]
  },
  {
   "cell_type": "code",
   "execution_count": 2,
   "metadata": {},
   "outputs": [
    {
     "name": "stdout",
     "output_type": "stream",
     "text": [
      "9\n",
      "1 2 3 4 5 6 7 8 9\n",
      "7\n",
      "1 6\n",
      "2 5\n",
      "3 4\n"
     ]
    }
   ],
   "source": [
    "n=int(input())\n",
    "li=[int(x) for x in input().split()]\n",
    "x=int(input())\n",
    "for i in range(len(li)):\n",
    "    j=i+1\n",
    "    while j<len(li):\n",
    "        if li[i]+li[j]==x:\n",
    "            if li[i]<li[j]:\n",
    "                print(li[i],li[j])\n",
    "            else:\n",
    "                print(li[j],li[i])\n",
    "        j=j+1\n",
    "    "
   ]
  },
  {
   "cell_type": "code",
   "execution_count": 9,
   "metadata": {},
   "outputs": [
    {
     "name": "stdout",
     "output_type": "stream",
     "text": [
      "6\n",
      "2 4 5 6 8 1\n",
      "10\n",
      "2 4 4\n",
      "1 4 5\n",
      "1 1 8\n"
     ]
    }
   ],
   "source": [
    "n=int(input())\n",
    "li=[int(x) for x in input().split()]\n",
    "x=int(input())\n",
    "for i in range(len(li)):\n",
    "    j=i+1\n",
    "    while j<len(li):\n",
    "        a=j\n",
    "        while a<len(li):\n",
    "            if li[i]+li[j]+li[a]==x:\n",
    "                if li[i]<=li[j] and li[i]<=li[a]:\n",
    "                    if li[j]<=li[a]:\n",
    "                        print(li[i],li[j],li[a])\n",
    "                    else:\n",
    "                        print(li[i],li[a],li[j])\n",
    "                elif li[a]<=li[j] and li[a]<=li[i]:\n",
    "                    if li[i]<=li[j]:\n",
    "                        print(li[a],li[i],li[j])\n",
    "                    else:\n",
    "                        print(li[a],li[j],li[i])\n",
    "                elif li[j]<=li[i] and li[j]<=li[a]:\n",
    "                    if li[i]<=li[a]:\n",
    "                        print(li[j],li[i],li[a])\n",
    "                    else:\n",
    "                        print(li[j],li[a],li[i])\n",
    "            a=a+1\n",
    "        j=j+1"
   ]
  },
  {
   "cell_type": "code",
   "execution_count": 16,
   "metadata": {},
   "outputs": [
    {
     "name": "stdout",
     "output_type": "stream",
     "text": [
      "5\n",
      "3 0 4 0 1\n",
      "3 4 1 0 0 "
     ]
    }
   ],
   "source": [
    "n=int(input())\n",
    "li=[int(x) for x in input().split()]\n",
    "i=0\n",
    "j=0\n",
    "while i<len(li):\n",
    "    while j<(len(li)):\n",
    "        if li[i]>0 and li[j]>0 and i<len(li):\n",
    "            i=i+1\n",
    "            j=j+1\n",
    "            break\n",
    "        elif li[i]==0:\n",
    "            i=i+1\n",
    "            \n",
    "        elif li[j]==0 and li[i]>0:\n",
    "            li[i],li[j]=li[j],li[i]\n",
    "            i=i+1\n",
    "            j=j+1\n",
    "            break\n",
    "            \n",
    "        elif li[i]==0 and li[j]==0:\n",
    "            i=i+1\n",
    "            break\n",
    "        \n",
    "        \n",
    "        j=j+1\n",
    "    i=i+1\n",
    "\n",
    "for i in range(len(li)): \n",
    "    print(li[i],end=' ')\n"
   ]
  },
  {
   "cell_type": "code",
   "execution_count": 44,
   "metadata": {},
   "outputs": [
    {
     "name": "stdout",
     "output_type": "stream",
     "text": [
      "7\n",
      "1 2 3 4 5 6 7\n",
      "2\n",
      "3 4 5 6 7 6 7 1 2\n"
     ]
    }
   ],
   "source": [
    "def Rotate(arr, d):\n",
    "    li=[]\n",
    "    for i in range(d):\n",
    "        li.append(arr[i])\n",
    "    for i in range(len(arr)-d):\n",
    "        arr[i]=arr[i+d]\n",
    "\n",
    "    for i in range(len(li)):\n",
    "        arr.append(li[i])\n",
    "    \n",
    "    \n",
    "    \n",
    "n=int(input())\n",
    "arr=list(int(i) for i in input().strip().split(' '))\n",
    "d=int(input())\n",
    "Rotate(arr, d)\n",
    "print(*arr)"
   ]
  },
  {
   "cell_type": "code",
   "execution_count": 31,
   "metadata": {},
   "outputs": [
    {
     "name": "stdout",
     "output_type": "stream",
     "text": [
      "7\n",
      "1 2 3 4 5 6 7\n",
      "1 2 3 4 5 6 7 "
     ]
    }
   ],
   "source": [
    "n=int(input())\n",
    "li=[int(x) for x in input().split()]\n",
    "i=0\n",
    "j=0\n",
    "while i<len(li):\n",
    "    if li[i]==0:\n",
    "        i+=1\n",
    "        continue\n",
    "    li[j]=li[i]\n",
    "    j+=1\n",
    "    i=i+1\n",
    "            \n",
    "while j<len(li):\n",
    "    li[j]=0\n",
    "    j+=1\n",
    "        \n",
    "\n",
    "    \n",
    "\n",
    "for i in range(len(li)): \n",
    "    print(li[i],end=' ')"
   ]
  },
  {
   "cell_type": "code",
   "execution_count": 7,
   "metadata": {
    "scrolled": true
   },
   "outputs": [
    {
     "name": "stdout",
     "output_type": "stream",
     "text": [
      "2\n",
      "2 2\n",
      "-1\n"
     ]
    }
   ],
   "source": [
    "## Read input as specified in the question.\n",
    "## Print output as specified in the question.\n",
    "\n",
    "n=int(input())\n",
    "\n",
    "largest=-1\n",
    "second=-1\n",
    "if n<=1:\n",
    "    print(\"-2147483648\")\n",
    "else:\n",
    "    li=[int(x) for x in input().split()]\n",
    "    for i in range(len(li)):\n",
    "        if li[i]>largest:\n",
    "            second=largest\n",
    "            largest=li[i]\n",
    "        \n",
    "        elif li[i]<largest and li[i]>second:\n",
    "            second=li[i]\n",
    "        elif li[i]==largest or li[i]==second:\n",
    "            pass\n",
    "        else:        \n",
    "            print(\"-2147483648\")\n",
    "            break\n",
    "            \n",
    "            \n",
    "    print(second)"
   ]
  },
  {
   "cell_type": "code",
   "execution_count": 1,
   "metadata": {},
   "outputs": [
    {
     "name": "stdout",
     "output_type": "stream",
     "text": [
      "2\n",
      "2\n"
     ]
    },
    {
     "ename": "UnboundLocalError",
     "evalue": "local variable 'min_index' referenced before assignment",
     "output_type": "error",
     "traceback": [
      "\u001b[1;31m---------------------------------------------------------------------------\u001b[0m",
      "\u001b[1;31mUnboundLocalError\u001b[0m                         Traceback (most recent call last)",
      "\u001b[1;32m<ipython-input-1-d19acd4dc264>\u001b[0m in \u001b[0;36m<module>\u001b[1;34m\u001b[0m\n\u001b[0;32m     18\u001b[0m \u001b[0mli\u001b[0m\u001b[1;33m=\u001b[0m\u001b[1;33m[\u001b[0m\u001b[0mint\u001b[0m\u001b[1;33m(\u001b[0m\u001b[0mx\u001b[0m\u001b[1;33m)\u001b[0m \u001b[1;32mfor\u001b[0m \u001b[0mx\u001b[0m \u001b[1;32min\u001b[0m \u001b[0minput\u001b[0m\u001b[1;33m(\u001b[0m\u001b[1;33m)\u001b[0m\u001b[1;33m.\u001b[0m\u001b[0msplit\u001b[0m\u001b[1;33m(\u001b[0m\u001b[1;33m)\u001b[0m\u001b[1;33m]\u001b[0m\u001b[1;33m\u001b[0m\u001b[1;33m\u001b[0m\u001b[0m\n\u001b[0;32m     19\u001b[0m \u001b[0mj\u001b[0m \u001b[1;33m=\u001b[0m \u001b[0mlen\u001b[0m\u001b[1;33m(\u001b[0m\u001b[0mli\u001b[0m\u001b[1;33m)\u001b[0m\u001b[1;33m\u001b[0m\u001b[1;33m\u001b[0m\u001b[0m\n\u001b[1;32m---> 20\u001b[1;33m \u001b[0mprint\u001b[0m\u001b[1;33m(\u001b[0m\u001b[0mcountRotations\u001b[0m\u001b[1;33m(\u001b[0m\u001b[0mli\u001b[0m\u001b[1;33m,\u001b[0m \u001b[0mj\u001b[0m\u001b[1;33m)\u001b[0m\u001b[1;33m)\u001b[0m\u001b[1;33m\u001b[0m\u001b[1;33m\u001b[0m\u001b[0m\n\u001b[0m",
      "\u001b[1;32m<ipython-input-1-d19acd4dc264>\u001b[0m in \u001b[0;36mcountRotations\u001b[1;34m(arr, n)\u001b[0m\n\u001b[0;32m     11\u001b[0m             \u001b[0mmin_index\u001b[0m \u001b[1;33m=\u001b[0m \u001b[0mi\u001b[0m\u001b[1;33m\u001b[0m\u001b[1;33m\u001b[0m\u001b[0m\n\u001b[0;32m     12\u001b[0m \u001b[1;33m\u001b[0m\u001b[0m\n\u001b[1;32m---> 13\u001b[1;33m     \u001b[1;32mreturn\u001b[0m \u001b[0mmin_index\u001b[0m\u001b[1;33m;\u001b[0m\u001b[1;33m\u001b[0m\u001b[1;33m\u001b[0m\u001b[0m\n\u001b[0m\u001b[0;32m     14\u001b[0m \u001b[1;33m\u001b[0m\u001b[0m\n\u001b[0;32m     15\u001b[0m \u001b[1;33m\u001b[0m\u001b[0m\n",
      "\u001b[1;31mUnboundLocalError\u001b[0m: local variable 'min_index' referenced before assignment"
     ]
    }
   ],
   "source": [
    "def countRotations(arr, n): \n",
    "  \n",
    "    # We basically find index \n",
    "    # of minimum element \n",
    "    min = arr[0] \n",
    "    for i in range(0, j): \n",
    "      \n",
    "        if (min > arr[i]): \n",
    "          \n",
    "            min = arr[i] \n",
    "            min_index = i \n",
    "          \n",
    "    return min_index; \n",
    "  \n",
    "  \n",
    "# Driver code \n",
    "n=int(input())\n",
    "li=[int(x) for x in input().split()]\n",
    "j = len(li) \n",
    "print(countRotations(li, j))"
   ]
  },
  {
   "cell_type": "code",
   "execution_count": 10,
   "metadata": {},
   "outputs": [
    {
     "name": "stdout",
     "output_type": "stream",
     "text": [
      "2\n",
      "2 2\n",
      "2\n",
      "8 9\n"
     ]
    },
    {
     "ename": "IndexError",
     "evalue": "list index out of range",
     "output_type": "error",
     "traceback": [
      "\u001b[1;31m---------------------------------------------------------------------------\u001b[0m",
      "\u001b[1;31mIndexError\u001b[0m                                Traceback (most recent call last)",
      "\u001b[1;32m<ipython-input-10-6c4dac72dde7>\u001b[0m in \u001b[0;36m<module>\u001b[1;34m\u001b[0m\n\u001b[0;32m      8\u001b[0m     \u001b[1;32mfor\u001b[0m \u001b[0mi\u001b[0m \u001b[1;32min\u001b[0m \u001b[0mrange\u001b[0m\u001b[1;33m(\u001b[0m\u001b[0mlen\u001b[0m\u001b[1;33m(\u001b[0m\u001b[0mli2\u001b[0m\u001b[1;33m)\u001b[0m\u001b[1;33m,\u001b[0m\u001b[1;36m1\u001b[0m\u001b[1;33m,\u001b[0m\u001b[1;33m-\u001b[0m\u001b[1;36m1\u001b[0m\u001b[1;33m)\u001b[0m\u001b[1;33m:\u001b[0m\u001b[1;33m\u001b[0m\u001b[1;33m\u001b[0m\u001b[0m\n\u001b[0;32m      9\u001b[0m \u001b[1;33m\u001b[0m\u001b[0m\n\u001b[1;32m---> 10\u001b[1;33m         \u001b[0mnum\u001b[0m\u001b[1;33m=\u001b[0m\u001b[0mli1\u001b[0m\u001b[1;33m[\u001b[0m\u001b[0mi\u001b[0m\u001b[1;33m]\u001b[0m\u001b[1;33m+\u001b[0m\u001b[0mli2\u001b[0m\u001b[1;33m[\u001b[0m\u001b[0mi\u001b[0m\u001b[1;33m]\u001b[0m\u001b[1;33m+\u001b[0m\u001b[0mcarry\u001b[0m\u001b[1;33m\u001b[0m\u001b[1;33m\u001b[0m\u001b[0m\n\u001b[0m\u001b[0;32m     11\u001b[0m         \u001b[0mcarry\u001b[0m\u001b[1;33m=\u001b[0m\u001b[0mnum\u001b[0m\u001b[1;33m//\u001b[0m\u001b[1;36m10\u001b[0m\u001b[1;33m\u001b[0m\u001b[1;33m\u001b[0m\u001b[0m\n\u001b[0;32m     12\u001b[0m         \u001b[0mremainder\u001b[0m\u001b[1;33m=\u001b[0m\u001b[0mnum\u001b[0m\u001b[1;33m%\u001b[0m\u001b[1;36m10\u001b[0m\u001b[1;33m\u001b[0m\u001b[1;33m\u001b[0m\u001b[0m\n",
      "\u001b[1;31mIndexError\u001b[0m: list index out of range"
     ]
    }
   ],
   "source": [
    "n1=int(input())\n",
    "li1=[int(x) for x in input().split()]\n",
    "n2=int(input())\n",
    "li2=[int(x) for x in input().split()]\n",
    "result=[]\n",
    "carry=0\n",
    "if len(li1)>=len(li2):\n",
    "    for i in range(len(li2),1,-1):\n",
    "    \n",
    "        num=li1[i]+li2[i]+carry\n",
    "        carry=num//10\n",
    "        remainder=num%10\n",
    "        result.append(remainder)\n",
    "    print(result)    \n"
   ]
  },
  {
   "cell_type": "code",
   "execution_count": 13,
   "metadata": {},
   "outputs": [
    {
     "name": "stdout",
     "output_type": "stream",
     "text": [
      "4\n",
      "2 0 1 0\n",
      "0 0 1 2 \n"
     ]
    }
   ],
   "source": [
    "def sort012(arr, n): \n",
    "  \n",
    "    # Variables to maintain the count of 0's,  \n",
    "    # 1's and 2's in the array \n",
    "    count0 = 0\n",
    "    count1 = 0\n",
    "    count2 = 0\n",
    "    for i in range(0,n): \n",
    "        if (arr[i] == 0): \n",
    "            count0=count0+1\n",
    "        if (arr[i] == 1): \n",
    "            count1=count1+1\n",
    "        if (arr[i] == 2): \n",
    "            count2=count2+1\n",
    "      \n",
    "  \n",
    "    # Putting the 0's in the array in starting. \n",
    "    for i in range(0,count0): \n",
    "        arr[i] = 0\n",
    "      \n",
    "    # Putting the 1's in the array after the 0's. \n",
    "    for i in range( count0, (count0 + count1)) : \n",
    "        arr[i] = 1\n",
    "      \n",
    "    # Putting the 2's in the array after the 1's \n",
    "    for i in range((count0 + count1),n) : \n",
    "        arr[i] = 2\n",
    "      \n",
    "    return\n",
    "  \n",
    "  \n",
    "# Prints the array \n",
    "def printArray( arr,  n): \n",
    "  \n",
    "    for i in range(0,n): \n",
    "        print( arr[i] , end=\" \") \n",
    "    print() \n",
    "  \n",
    "n1=int(input())\n",
    "arr = [int(x) for x in input().split()] \n",
    "n = len(arr) \n",
    "sort012(arr, n) \n",
    "printArray(arr, n) \n"
   ]
  },
  {
   "cell_type": "code",
   "execution_count": 14,
   "metadata": {},
   "outputs": [
    {
     "name": "stdout",
     "output_type": "stream",
     "text": [
      "True\n"
     ]
    }
   ],
   "source": [
    "a = \"abce\" >= \"abcdef\"\n",
    "print(a)"
   ]
  },
  {
   "cell_type": "code",
   "execution_count": 20,
   "metadata": {},
   "outputs": [
    {
     "name": "stdout",
     "output_type": "stream",
     "text": [
      "abcba\n",
      "true\n"
     ]
    }
   ],
   "source": [
    "def reverse(s): \n",
    "    return s[::-1] \n",
    "  \n",
    "def isPalindrome(s): \n",
    "    # Calling reverse function \n",
    "    rev = reverse(s) \n",
    "  \n",
    "    # Checking if both string are equal or not \n",
    "    if (s == rev): \n",
    "        print(\"true\")\n",
    "    else:\n",
    "        print (\"false\")\n",
    "s1=str(input())\n",
    "reverse(s1)\n",
    "isPalindrome(s1)"
   ]
  },
  {
   "cell_type": "code",
   "execution_count": 13,
   "metadata": {},
   "outputs": [
    {
     "name": "stdout",
     "output_type": "stream",
     "text": [
      "aaaaabbbbbb\n",
      "a3a3ab3b3b3\n"
     ]
    }
   ],
   "source": [
    "def compress(s):\n",
    "    ans = s[0] \n",
    "    i, length = 1, len(s)\n",
    "    while i<len(s): \n",
    "        if ans[-1]==s[i]: \n",
    "            count = 2 \n",
    "            i += 1 \n",
    "            while i<len(s) and ans[-1]==s[i]: \n",
    "                count += 1 \n",
    "                i += 1 \n",
    "                ans += str(count)\n",
    "                \n",
    "        else: \n",
    "            ans += s[i] \n",
    "            i += 1 \n",
    "    return ans \n",
    "s=input() \n",
    "print(compress(s))"
   ]
  },
  {
   "cell_type": "code",
   "execution_count": 44,
   "metadata": {},
   "outputs": [
    {
     "name": "stdout",
     "output_type": "stream",
     "text": [
      "aaaaaaabbbbbbbbcccccccdddddeeee\n",
      "abcde\n"
     ]
    }
   ],
   "source": [
    "string=input()\n",
    "i=0\n",
    "string2=\"\"\n",
    "for i in range(len(string)):\n",
    "    if i+1<len(string) and string[i]==string[i+1]:\n",
    "        pass\n",
    "    else:\n",
    "        string2 += string[i]\n",
    "        \n",
    "    \n",
    "print(string2)"
   ]
  },
  {
   "cell_type": "code",
   "execution_count": 7,
   "metadata": {},
   "outputs": [
    {
     "name": "stdout",
     "output_type": "stream",
     "text": [
      "5\n"
     ]
    }
   ],
   "source": [
    "d = {1:2, 2:5, \"d\":7}\n",
    "print(d.get(0,5))"
   ]
  },
  {
   "cell_type": "code",
   "execution_count": 3,
   "metadata": {},
   "outputs": [
    {
     "name": "stdout",
     "output_type": "stream",
     "text": [
      "2222\n"
     ]
    },
    {
     "ename": "ValueError",
     "evalue": "not enough values to unpack (expected 2, got 1)",
     "output_type": "error",
     "traceback": [
      "\u001b[1;31m---------------------------------------------------------------------------\u001b[0m",
      "\u001b[1;31mValueError\u001b[0m                                Traceback (most recent call last)",
      "\u001b[1;32m<ipython-input-3-51189f9abb02>\u001b[0m in \u001b[0;36m<module>\u001b[1;34m\u001b[0m\n\u001b[0;32m     10\u001b[0m \u001b[1;33m\u001b[0m\u001b[0m\n\u001b[0;32m     11\u001b[0m \u001b[1;33m\u001b[0m\u001b[0m\n\u001b[1;32m---> 12\u001b[1;33m \u001b[0mm\u001b[0m\u001b[1;33m,\u001b[0m \u001b[0mn\u001b[0m\u001b[1;33m=\u001b[0m\u001b[1;33m(\u001b[0m\u001b[0mint\u001b[0m\u001b[1;33m(\u001b[0m\u001b[0mi\u001b[0m\u001b[1;33m)\u001b[0m \u001b[1;32mfor\u001b[0m \u001b[0mi\u001b[0m \u001b[1;32min\u001b[0m \u001b[0minput\u001b[0m\u001b[1;33m(\u001b[0m\u001b[1;33m)\u001b[0m\u001b[1;33m.\u001b[0m\u001b[0mstrip\u001b[0m\u001b[1;33m(\u001b[0m\u001b[1;33m)\u001b[0m\u001b[1;33m.\u001b[0m\u001b[0msplit\u001b[0m\u001b[1;33m(\u001b[0m\u001b[1;34m' '\u001b[0m\u001b[1;33m)\u001b[0m\u001b[1;33m)\u001b[0m\u001b[1;33m\u001b[0m\u001b[1;33m\u001b[0m\u001b[0m\n\u001b[0m\u001b[0;32m     13\u001b[0m \u001b[0ml\u001b[0m\u001b[1;33m=\u001b[0m\u001b[1;33m[\u001b[0m\u001b[0mint\u001b[0m\u001b[1;33m(\u001b[0m\u001b[0mi\u001b[0m\u001b[1;33m)\u001b[0m \u001b[1;32mfor\u001b[0m \u001b[0mi\u001b[0m \u001b[1;32min\u001b[0m \u001b[0minput\u001b[0m\u001b[1;33m(\u001b[0m\u001b[1;33m)\u001b[0m\u001b[1;33m.\u001b[0m\u001b[0mstrip\u001b[0m\u001b[1;33m(\u001b[0m\u001b[1;33m)\u001b[0m\u001b[1;33m.\u001b[0m\u001b[0msplit\u001b[0m\u001b[1;33m(\u001b[0m\u001b[1;34m' '\u001b[0m\u001b[1;33m)\u001b[0m\u001b[1;33m]\u001b[0m\u001b[1;33m\u001b[0m\u001b[1;33m\u001b[0m\u001b[0m\n\u001b[0;32m     14\u001b[0m \u001b[0marr\u001b[0m \u001b[1;33m=\u001b[0m \u001b[1;33m[\u001b[0m \u001b[1;33m[\u001b[0m \u001b[0ml\u001b[0m\u001b[1;33m[\u001b[0m\u001b[1;33m(\u001b[0m\u001b[0mj\u001b[0m\u001b[1;33m*\u001b[0m\u001b[0mn\u001b[0m\u001b[1;33m)\u001b[0m\u001b[1;33m+\u001b[0m\u001b[0mi\u001b[0m\u001b[1;33m]\u001b[0m \u001b[1;32mfor\u001b[0m \u001b[0mi\u001b[0m \u001b[1;32min\u001b[0m \u001b[0mrange\u001b[0m\u001b[1;33m(\u001b[0m\u001b[0mn\u001b[0m\u001b[1;33m)\u001b[0m\u001b[1;33m]\u001b[0m \u001b[1;32mfor\u001b[0m \u001b[0mj\u001b[0m \u001b[1;32min\u001b[0m \u001b[0mrange\u001b[0m\u001b[1;33m(\u001b[0m\u001b[0mm\u001b[0m\u001b[1;33m)\u001b[0m\u001b[1;33m]\u001b[0m\u001b[1;33m\u001b[0m\u001b[1;33m\u001b[0m\u001b[0m\n",
      "\u001b[1;31mValueError\u001b[0m: not enough values to unpack (expected 2, got 1)"
     ]
    }
   ],
   "source": [
    "def rowWiseSum(arr):\n",
    "    li=[]\n",
    "    for row in arr:\n",
    "        sum=0\n",
    "        for ele in row:\n",
    "            sum=sum+ele\n",
    "        li.append(sum)\n",
    "    return li\n",
    "    \n",
    "\n",
    "\n",
    "m, n=(int(i) for i in input().strip().split(' '))\n",
    "l=[int(i) for i in input().strip().split(' ')]\n",
    "arr = [ [ l[(j*n)+i] for i in range(n)] for j in range(m)]\n",
    "l=rowWiseSum(arr)\n",
    "print(*l)\n"
   ]
  },
  {
   "cell_type": "code",
   "execution_count": 10,
   "metadata": {},
   "outputs": [
    {
     "name": "stdout",
     "output_type": "stream",
     "text": [
      "3 2\n",
      "1 2 3 4 5 6\n"
     ]
    }
   ],
   "source": [
    "m, n=(int(i) for i in input().strip().split(' '))\n",
    "l=[int(i) for i in input().strip().split(' ')]\n",
    "arr = [ [ l[(j*n)+i] for i in range(n)] for j in range(m)]"
   ]
  },
  {
   "cell_type": "code",
   "execution_count": 11,
   "metadata": {},
   "outputs": [
    {
     "data": {
      "text/plain": [
       "[[1, 2], [3, 4], [5, 6]]"
      ]
     },
     "execution_count": 11,
     "metadata": {},
     "output_type": "execute_result"
    }
   ],
   "source": [
    "arr"
   ]
  },
  {
   "cell_type": "code",
   "execution_count": 18,
   "metadata": {},
   "outputs": [
    {
     "ename": "SyntaxError",
     "evalue": "invalid character in identifier (<ipython-input-18-f6aaafbb0038>, line 16)",
     "output_type": "error",
     "traceback": [
      "\u001b[1;36m  File \u001b[1;32m\"<ipython-input-18-f6aaafbb0038>\"\u001b[1;36m, line \u001b[1;32m16\u001b[0m\n\u001b[1;33m    print(arr[i][j], end = ” “)\u001b[0m\n\u001b[1;37m                           ^\u001b[0m\n\u001b[1;31mSyntaxError\u001b[0m\u001b[1;31m:\u001b[0m invalid character in identifier\n"
     ]
    }
   ],
   "source": []
  },
  {
   "cell_type": "code",
   "execution_count": 4,
   "metadata": {},
   "outputs": [],
   "source": [
    "# solver.py\n",
    "def solve(bo):\n",
    "    \"\"\"\n",
    "    Solves a sudoku board using backtracking\n",
    "    :param bo: 2d list of ints\n",
    "    :return: solution\n",
    "    \"\"\"\n",
    "    find = find_empty(bo)\n",
    "    if find:\n",
    "        row, col = find\n",
    "    else:\n",
    "        return True\n",
    "\n",
    "    for i in range(1,10):\n",
    "        if valid(bo, (row, col), i):\n",
    "            bo[row][col] = i\n",
    "\n",
    "            if solve(bo):\n",
    "                return True\n",
    "\n",
    "            bo[row][col] = 0\n",
    "\n",
    "    return False\n",
    "\n",
    "\n",
    "def valid(bo, pos, num):\n",
    "    \"\"\"\n",
    "    Returns if the attempted move is valid\n",
    "    :param bo: 2d list of ints\n",
    "    :param pos: (row, col)\n",
    "    :param num: int\n",
    "    :return: bool\n",
    "    \"\"\"\n",
    "\n",
    "    # Check row\n",
    "    for i in range(0, len(bo)):\n",
    "        if bo[pos[0]][i] == num and pos[1] != i:\n",
    "            return False\n",
    "\n",
    "    # Check Col\n",
    "    for i in range(0, len(bo)):\n",
    "        if bo[i][pos[1]] == num and pos[1] != i:\n",
    "            return False\n",
    "\n",
    "    # Check box\n",
    "\n",
    "    box_x = pos[1]//3\n",
    "    box_y = pos[0]//3\n",
    "\n",
    "    for i in range(box_y*3, box_y*3 + 3):\n",
    "        for j in range(box_x*3, box_x*3 + 3):\n",
    "            if bo[i][j] == num and (i,j) != pos:\n",
    "                return False\n",
    "\n",
    "    return True\n",
    "\n",
    "\n",
    "def find_empty(bo):\n",
    "    \"\"\"\n",
    "    finds an empty space in the board\n",
    "    :param bo: partially complete board\n",
    "    :return: (int, int) row col\n",
    "    \"\"\"\n",
    "\n",
    "    for i in range(len(bo)):\n",
    "        for j in range(len(bo[0])):\n",
    "            if bo[i][j] == 0:\n",
    "                return (i, j)\n",
    "\n",
    "    return None\n",
    "\n",
    "\n",
    "def print_board(bo):\n",
    "    \"\"\"\n",
    "    prints the board\n",
    "    :param bo: 2d List of ints\n",
    "\n",
    "    :return: None\n",
    "    \"\"\"\n",
    "    for i in range(len(bo)):\n",
    "        if i % 3 == 0 and i != 0:\n",
    "            print(\"- - - - - - - - - - - - - -\")\n",
    "        for j in range(len(bo[0])):\n",
    "            if j % 3 == 0:\n",
    "                print(\" | \",end=\"\")\n",
    "\n",
    "            if j == 8:\n",
    "                print(bo[i][j], end=\"\\n\")\n",
    "            else:\n",
    "                print(str(bo[i][j]) + \" \", end=\"\")   \n"
   ]
  },
  {
   "cell_type": "code",
   "execution_count": 6,
   "metadata": {},
   "outputs": [
    {
     "name": "stdout",
     "output_type": "stream",
     "text": [
      "3\n",
      "4 5 6\n",
      "5\n",
      "true\n"
     ]
    }
   ],
   "source": [
    "def recSearch( arr, l, r, x): \n",
    "    if r < l: \n",
    "        return -1\n",
    "    if arr[l] == x: \n",
    "        return l \n",
    "    if arr[r] == x: \n",
    "        return r \n",
    "    return recSearch(arr, l+1, r-1, x) \n",
    "m=int(input())    \n",
    "arr =list(int(i) for i in input().strip().split(' ')) \n",
    "n = len(arr) \n",
    "x = int(input())\n",
    "index = recSearch(arr, 0, n-1, x) \n",
    "if index != -1: \n",
    "    print(\"true\") \n",
    "else: \n",
    "    print (\"false\")  \n",
    "  "
   ]
  },
  {
   "cell_type": "code",
   "execution_count": 7,
   "metadata": {},
   "outputs": [],
   "source": [
    "def firstindex(arr,x):\n",
    "    l=len(arr)\n",
    "    if l==0:\n",
    "        return -1\n",
    "    if arr[0]==x:\n",
    "        return 0\n",
    "    smallerlist = arr[1:]\n",
    "    \n",
    "    smallerlistoutput=firstindex(smallerlist,x)\n",
    "    \n",
    "    if smallerlistoutput==-1:\n",
    "        return -1\n",
    "    else:\n",
    "        return smallerlistoutput + 1"
   ]
  },
  {
   "cell_type": "code",
   "execution_count": 2,
   "metadata": {},
   "outputs": [],
   "source": [
    "def lastindex(arr,x):\n",
    "    l=len(arr)\n",
    "    if l==0:\n",
    "        return -1\n",
    "    \n",
    "    smallerlist=a[1:]\n",
    "    smallerlistoutput= lastindex(smallerlist,x)\n",
    "    if smallerlistoutput != -1:\n",
    "        return smallerlistoutput+1\n",
    "    else:\n",
    "        if arr[0]==x:\n",
    "            return 0\n",
    "        else:\n",
    "            return -1\n",
    "        "
   ]
  },
  {
   "cell_type": "code",
   "execution_count": 11,
   "metadata": {},
   "outputs": [
    {
     "name": "stdout",
     "output_type": "stream",
     "text": [
      "adjhjhx\n",
      "adjhjh\n"
     ]
    }
   ],
   "source": [
    "# Problem: Remove x from string\n",
    "def removeX(string): \n",
    "    l=len(string)\n",
    "    if l==0:\n",
    "        return string\n",
    "    output = removeX(string[1:])\n",
    "    if string[0]==\"x\":\n",
    "        return output\n",
    "    else:\n",
    "        return string[0] + outputif \n",
    "    \n",
    "\n",
    "string = input()\n",
    "print(removeX(string))\n"
   ]
  },
  {
   "cell_type": "code",
   "execution_count": 21,
   "metadata": {},
   "outputs": [
    {
     "name": "stdout",
     "output_type": "stream",
     "text": [
      "bsjhdkkdhkdhkjjjj\n",
      "bsjhdkdhkdhkj\n"
     ]
    }
   ],
   "source": [
    "# Problem ID 91, removeConsecutiveDuplicates\n",
    "def removeConsecutiveDuplicates(string):\n",
    "    l=len(string)\n",
    "    if l==0 or l==1:\n",
    "        return string\n",
    "    if string[0]==string[1]:\n",
    "        output= removeConsecutiveDuplicates(string[1:])\n",
    "        return output\n",
    "    else:\n",
    "        output=removeConsecutiveDuplicates(string[1:])\n",
    "        return string[0]+ output\n",
    "    \n",
    "\n",
    "# Main\n",
    "string = input().strip()\n",
    "print(removeConsecutiveDuplicates(string))\n"
   ]
  },
  {
   "cell_type": "code",
   "execution_count": 28,
   "metadata": {},
   "outputs": [
    {
     "name": "stdout",
     "output_type": "stream",
     "text": [
      "5\n",
      "8 7 6 5 4\n",
      "4 5 6 7 8\n"
     ]
    }
   ],
   "source": [
    "\n",
    "def mergeSort(myList):\n",
    "    if len(myList) > 1:\n",
    "        mid = len(myList) // 2\n",
    "        left = myList[:mid]\n",
    "        right = myList[mid:]\n",
    "\n",
    "        # Recursive call on each half\n",
    "        mergeSort(left)\n",
    "        mergeSort(right)\n",
    "\n",
    "        # Two iterators for traversing the two halves\n",
    "        i = 0\n",
    "        j = 0\n",
    "        \n",
    "        # Iterator for the main list\n",
    "        k = 0\n",
    "        \n",
    "        while i < len(left) and j < len(right):\n",
    "            if left[i] < right[j]:\n",
    "              # The value from the left half has been used\n",
    "              myList[k] = left[i]\n",
    "              # Move the iterator forward\n",
    "              i += 1\n",
    "            else:\n",
    "                myList[k] = right[j]\n",
    "                j += 1\n",
    "            # Move to the next slot\n",
    "            k += 1\n",
    "\n",
    "        # For all the remaining values\n",
    "        while i < len(left):\n",
    "            myList[k] = left[i]\n",
    "            i += 1\n",
    "            k += 1\n",
    "\n",
    "        while j < len(right):\n",
    "            myList[k]=right[j]\n",
    "            j += 1\n",
    "            k += 1\n",
    "\n",
    "\n",
    "\n",
    "\n",
    "\n",
    "n=int(input())\n",
    "myList=list(int(i) for i in input().strip().split(' '))\n",
    "mergeSort(myList)\n",
    "print(*myList)\n"
   ]
  },
  {
   "cell_type": "code",
   "execution_count": null,
   "metadata": {},
   "outputs": [],
   "source": []
  }
 ],
 "metadata": {
  "kernelspec": {
   "display_name": "Python 3",
   "language": "python",
   "name": "python3"
  },
  "language_info": {
   "codemirror_mode": {
    "name": "ipython",
    "version": 3
   },
   "file_extension": ".py",
   "mimetype": "text/x-python",
   "name": "python",
   "nbconvert_exporter": "python",
   "pygments_lexer": "ipython3",
   "version": "3.7.6"
  }
 },
 "nbformat": 4,
 "nbformat_minor": 4
}
