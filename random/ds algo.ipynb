{
 "cells": [
  {
   "cell_type": "code",
   "execution_count": null,
   "metadata": {},
   "outputs": [],
   "source": [
    "def power(x,n):\n",
    "    if n==1:\n",
    "        return x\n",
    "    smalloutput=power(x,n-1)\n",
    "    return x*smalloutput\n",
    "x,n=map(int,input().split())\n",
    "power(x,n)"
   ]
  },
  {
   "cell_type": "code",
   "execution_count": null,
   "metadata": {},
   "outputs": [],
   "source": [
    "## Read input as specified in the question.\n",
    "## Print output as specified in the question.\n",
    "def power(x,n):\n",
    "    if n==1:\n",
    "        return x\n",
    "    smalloutput=power(x,n-1)\n",
    "\n",
    "    return x*smalloutput\n",
    "x,n=[int(c) for c in input().split()]\n",
    "\n",
    "power(x,n)"
   ]
  },
  {
   "cell_type": "code",
   "execution_count": null,
   "metadata": {},
   "outputs": [],
   "source": [
    "# A naive solution for calculating sum of \n",
    "# geometric series. \n",
    "\n",
    "# function to calculate sum of \n",
    "# geometric series \n",
    "def sumOfGP(a, r, n) : \n",
    "\t\n",
    "\tsum = 0\n",
    "\ti = 0\n",
    "\twhile i < n : \n",
    "\t\tsum = sum + a \n",
    "\t\ta = a * r \n",
    "\t\ti = i + 1\n",
    "\t\n",
    "\treturn sum\n",
    "\t\n",
    "#driver function \n",
    "\n",
    "a = 1 # first term \n",
    "r = (float)(1/2.0) # common ratio \n",
    "n = int(input()) + 1 # number of terms \n",
    "\t\t\n",
    "print(\"%.5f\" %sumOfGP(a, r, n)), \n",
    "\t\n",
    "# This code is contributed by Nikita Tiwari \n"
   ]
  },
  {
   "cell_type": "markdown",
   "metadata": {},
   "source": []
  },
  {
   "cell_type": "code",
   "execution_count": null,
   "metadata": {},
   "outputs": [],
   "source": [
    "# A recursive Python program  \n",
    "# to check whether a given  \n",
    "# number is palindrome or not \n",
    "  \n",
    "# A recursive function that  \n",
    "# check a str[s..e] is  \n",
    "# palindrome or not. \n",
    "def isPalRec(st, s, e) : \n",
    "      \n",
    "    # If there is only one character \n",
    "    if (s == e): \n",
    "        return True\n",
    "  \n",
    "    # If first and last \n",
    "    # characters do not match \n",
    "    if (st[s] != st[e]) : \n",
    "        return False\n",
    "  \n",
    "    # If there are more than  \n",
    "    # two characters, check if  \n",
    "    # middle substring is also  \n",
    "    # palindrome or not. \n",
    "    if (s < e + 1) : \n",
    "        return isPalRec(st, s + 1, e - 1); \n",
    "  \n",
    "    return True\n",
    "  \n",
    "def isPalindrome(st) : \n",
    "    n = len(st) \n",
    "      \n",
    "    # An empty string is  \n",
    "    # considered as palindrome \n",
    "    if (n == 0) : \n",
    "        return True\n",
    "      \n",
    "    return isPalRec(st, 0, n - 1); \n",
    "  \n",
    "  \n",
    "# Driver Code \n",
    "st = input()\n",
    "if (isPalindrome(st)) : \n",
    "    print (\"true\")\n",
    "else : \n",
    "    print (\"false\")\n",
    "      "
   ]
  },
  {
   "cell_type": "code",
   "execution_count": null,
   "metadata": {},
   "outputs": [],
   "source": [
    "\t\n",
    "# Python3 implementation of the approach \n",
    "\n",
    "# Recursive function to convert \n",
    "# string to integer \n",
    "def stringToInt(str): \n",
    "\n",
    "\t# If the number represented as a string \n",
    "\t# contains only a single digit \n",
    "\t# then returns its value \n",
    "\tif (len(str) == 1): \n",
    "\t\treturn ord(str[0]) - ord('0'); \n",
    "\n",
    "\t# Recursive call for the sub-string \n",
    "\t# starting at the second character \n",
    "\ty = stringToInt(str[1:]); \n",
    "\n",
    "\t# First digit of the number \n",
    "\tx = ord(str[0]) - ord('0'); \n",
    "\t\n",
    "\t# First digit multiplied by the \n",
    "\t# appropriate power of 10 and then \n",
    "\t# add the recursive result \n",
    "\t# For example, xy = ((x * 10) + y) \n",
    "\tx = x * (10**(len(str) - 1)) + y; \n",
    "\treturn int(x); \n",
    "\n",
    "# Driver code \n",
    "if __name__ == '__main__': \n",
    "\tstr = input(); \n",
    "\tprint(stringToInt(str)); \n",
    "\n",
    "# This code is contributed by PrinciRaj1992 \n"
   ]
  },
  {
   "cell_type": "code",
   "execution_count": null,
   "metadata": {},
   "outputs": [],
   "source": [
    "# Function to insert * at desired position  \n",
    "def pairStar(Input, Output, i = 0) : \n",
    "      \n",
    "    # Append current character  \n",
    "    Output = Output + Input[i] \n",
    "  \n",
    "    # If we reached last character  \n",
    "    if (i == len(Input) - 1) : \n",
    "        print(Output) \n",
    "        return;  \n",
    "  \n",
    "    # If next character is same,  \n",
    "    # append '*'  \n",
    "    if (Input[i] == Input[i + 1]) :  \n",
    "        Output = Output + '*';  \n",
    "  \n",
    "    pairStar(Input, Output, i + 1)  \n",
    "  \n",
    " \n",
    "Input = input()\n",
    "Output = \"\" \n",
    "pairStar(Input, Output) "
   ]
  },
  {
   "cell_type": "code",
   "execution_count": null,
   "metadata": {},
   "outputs": [],
   "source": [
    "# Python program for implementation of Quicksort Sort \n",
    "\n",
    "# This function takes last element as pivot, places \n",
    "# the pivot element at its correct position in sorted \n",
    "# array, and places all smaller (smaller than pivot) \n",
    "# to left of pivot and all greater elements to right \n",
    "# of pivot \n",
    "def partition(arr,low,high): \n",
    "\ti = ( low-1 )\t\t # index of smaller element \n",
    "\tpivot = arr[high]\t # pivot \n",
    "\n",
    "\tfor j in range(low , high): \n",
    "\n",
    "\t\t# If current element is smaller than the pivot \n",
    "\t\tif arr[j] < pivot: \n",
    "\t\t\n",
    "\t\t\t# increment index of smaller element \n",
    "\t\t\ti = i+1\n",
    "\t\t\tarr[i],arr[j] = arr[j],arr[i] \n",
    "\n",
    "\tarr[i+1],arr[high] = arr[high],arr[i+1] \n",
    "\treturn ( i+1 ) \n",
    "\n",
    "# The main function that implements QuickSort \n",
    "# arr[] --> Array to be sorted, \n",
    "# low --> Starting index, \n",
    "# high --> Ending index \n",
    "\n",
    "# Function to do Quick sort \n",
    "def quickSort(arr,low,high): \n",
    "\tif low < high: \n",
    "\n",
    "\t\t# pi is partitioning index, arr[p] is now \n",
    "\t\t# at right place \n",
    "\t\tpi = partition(arr,low,high) \n",
    "\n",
    "\t\t# Separately sort elements before \n",
    "\t\t# partition and after partition \n",
    "\t\tquickSort(arr, low, pi-1) \n",
    "\t\tquickSort(arr, pi+1, high) \n",
    "\n",
    "n=int(input())\n",
    "arr=list(int(i) for i in input().strip().split(' '))\n",
    "\n",
    "quickSort(arr,0,n-1)  \n",
    "for i in range(n): \n",
    "\tprint (*arr), \n",
    "\n",
    "# This code is contributed by Mohit Kumra \n",
    "\n",
    "\n",
    "\n"
   ]
  },
  {
   "cell_type": "code",
   "execution_count": 3,
   "metadata": {},
   "outputs": [
    {
     "name": "stdout",
     "output_type": "stream",
     "text": [
      "4\n",
      "a b\n",
      "a c\n",
      "b c\n",
      "a b\n",
      "c a\n",
      "c b\n",
      "a b\n",
      "a c\n",
      "b c\n",
      "b a\n",
      "c a\n",
      "b c\n",
      "a b\n",
      "a c\n",
      "b c\n"
     ]
    }
   ],
   "source": [
    "def towerofhanoi(n, source, aux, dest):\n",
    "    if n==0:\n",
    "        return\n",
    "    if n==1 :\n",
    "        print(source,dest)\n",
    "        return\n",
    "    towerofhanoi(n-1, source,dest,aux)\n",
    "    print(source,dest)\n",
    "    towerofhanoi(n-1,aux,source,dest)\n",
    "\n",
    "n=int(input())\n",
    "towerofhanoi(n, 'a', 'b', 'c')"
   ]
  },
  {
   "cell_type": "code",
   "execution_count": 1,
   "metadata": {},
   "outputs": [
    {
     "name": "stdout",
     "output_type": "stream",
     "text": [
      "3 5\n",
      "243\n"
     ]
    }
   ],
   "source": [
    "def power(x,n):\n",
    "    if n==0:\n",
    "        return 1\n",
    "    smallpower=power(x,n//2)\n",
    "    if n%2==0:\n",
    "        return smallpower*smallpower\n",
    "    else:\n",
    "        return x*smallpower*smallpower\n",
    "    \n",
    "from sys import setrecursionlimit\n",
    "setrecursionlimit(11000)\n",
    "x, n=list(int(i) for i in input().strip().split(' '))\n",
    "print(power(x, n))\n"
   ]
  },
  {
   "cell_type": "code",
   "execution_count": 4,
   "metadata": {},
   "outputs": [
    {
     "name": "stdout",
     "output_type": "stream",
     "text": [
      "7\n",
      "-7 1 5 2 -4 3 0\n",
      "3\n"
     ]
    }
   ],
   "source": [
    "def equilibrium(arr): \n",
    "  \n",
    "    total_sum = sum(arr) \n",
    "    leftsum = 0\n",
    "    for i, num in enumerate(arr): \n",
    "     \n",
    "        total_sum -= num \n",
    "          \n",
    "        if leftsum == total_sum: \n",
    "            return i \n",
    "        leftsum += num \n",
    "       \n",
    "    return -1\n",
    "      \n",
    "n = int(input())\n",
    "arr = [int(i) for i in input().strip().split()]\n",
    "print(equilibrium(arr))\n"
   ]
  },
  {
   "cell_type": "code",
   "execution_count": 12,
   "metadata": {},
   "outputs": [
    {
     "name": "stdout",
     "output_type": "stream",
     "text": [
      "6\n",
      "2 6 8 5 4 3\n",
      "4\n",
      "2 3 4 7\n",
      "2\n",
      "4\n",
      "3\n"
     ]
    }
   ],
   "source": [
    "def intersection(lst1, lst2): \n",
    "  \n",
    "    # Use of hybrid method \n",
    "    temp = set(lst2) \n",
    "    lst3 = [value for value in lst1 if value in temp] \n",
    "    i=0\n",
    "    while i <len(lst3):\n",
    "        print(lst3[i])\n",
    "        i=i+1\n",
    "        \n",
    "\n",
    "n1=int(input())\n",
    "lst1=list(int(i) for i in input().strip().split(' '))\n",
    "n2=int(input())\n",
    "lst2=list(int(i) for i in input().strip().split(' '))\n",
    "intersection(lst1,lst2) \n",
    "\n"
   ]
  },
  {
   "cell_type": "code",
   "execution_count": 14,
   "metadata": {},
   "outputs": [
    {
     "name": "stdout",
     "output_type": "stream",
     "text": [
      "6\n",
      "2 6 8 5 4 3\n",
      "4\n",
      "2 3 4 7\n",
      "2\n",
      "4\n",
      "3\n"
     ]
    }
   ],
   "source": [
    "def intersection(lst1, lst2): \n",
    "    lst3 = [value for value in lst1 if value in lst2] \n",
    "    i=0\n",
    "    while i <len(lst3):\n",
    "        print(lst3[i])\n",
    "        i=i+1\n",
    "        \n",
    "\n",
    "n1=int(input())\n",
    "lst1=list(int(i) for i in input().strip().split(' '))\n",
    "n2=int(input())\n",
    "lst2=list(int(i) for i in input().strip().split(' '))\n",
    "intersection(lst1,lst2) \n",
    "    \n",
    "\n",
    "    "
   ]
  },
  {
   "cell_type": "code",
   "execution_count": 32,
   "metadata": {},
   "outputs": [
    {
     "name": "stdout",
     "output_type": "stream",
     "text": [
      "6\n",
      "2 3 4 5 6 7 \n",
      "3\n",
      "5 6 7\n",
      "5\n",
      "6\n",
      "7\n"
     ]
    }
   ],
   "source": [
    "def mergeSort(myList):\n",
    "    if len(myList) > 1:\n",
    "        mid = len(myList) // 2\n",
    "        left = myList[:mid]\n",
    "        right = myList[mid:]\n",
    "\n",
    "        # Recursive call on each half\n",
    "        mergeSort(left)\n",
    "        mergeSort(right)\n",
    "\n",
    "        # Two iterators for traversing the two halves\n",
    "        i = 0\n",
    "        j = 0\n",
    "        \n",
    "        # Iterator for the main list\n",
    "        k = 0\n",
    "        \n",
    "        while i < len(left) and j < len(right):\n",
    "            if left[i] < right[j]:\n",
    "              # The value from the left half has been used\n",
    "              myList[k] = left[i]\n",
    "              # Move the iterator forward\n",
    "              i += 1\n",
    "            else:\n",
    "                myList[k] = right[j]\n",
    "                j += 1\n",
    "            # Move to the next slot\n",
    "            k += 1\n",
    "\n",
    "        # For all the remaining values\n",
    "        while i < len(left):\n",
    "            myList[k] = left[i]\n",
    "            i += 1\n",
    "            k += 1\n",
    "\n",
    "        while j < len(right):\n",
    "            myList[k]=right[j]\n",
    "            j += 1\n",
    "            k += 1\n",
    "            \n",
    "def compare(myList1,myList2):\n",
    "    i=0\n",
    "    j=0\n",
    "    while i<len(myList1) and j<len(myList1):\n",
    "        \n",
    "        if myList1[i]<myList2[j]:\n",
    "            i=i+1\n",
    "        elif myList2[j]<myList1[i]:\n",
    "            j=j+1\n",
    "        else:\n",
    "            print (myList1[i])\n",
    "            i=i+1\n",
    "            j=j+1\n",
    "\n",
    "        \n",
    "\n",
    "\n",
    "n=int(input())\n",
    "myList1=list(int(i) for i in input().strip().split(' '))\n",
    "m=int(input())\n",
    "myList2=list(int(i) for i in input().strip().split(' '))\n",
    "mergeSort(myList1)\n",
    "mergeSort(myList2)\n",
    "compare(myList1,myList2)\n"
   ]
  },
  {
   "cell_type": "code",
   "execution_count": 34,
   "metadata": {},
   "outputs": [
    {
     "name": "stdout",
     "output_type": "stream",
     "text": [
      "1\n",
      "3\n",
      "3\n",
      "4 5 3\n",
      "3\n"
     ]
    }
   ],
   "source": [
    "n1=int(input())\n",
    "li1=[int(x) for x in input().split()]\n",
    "n2=int(input())\n",
    "li2=[int(x) for x in input().split()]\n",
    "li3=[]\n",
    "for i in li1:\n",
    "    if i in li2:\n",
    "        li3.append(i)\n",
    "        li2.remove(i)\n",
    "for i in li3:\n",
    "    print(i)"
   ]
  },
  {
   "cell_type": "code",
   "execution_count": null,
   "metadata": {},
   "outputs": [],
   "source": [
    "\n",
    "def Rotate2(a, d):\n",
    "    x=0\n",
    "    while x<d:\n",
    "        for i in range(len(a)-1):\n",
    "            a[i],a[i+1]=a[i+1],a[i]\n",
    "        x+=1   \n",
    "n=int(input())\n",
    "arr=list(int(i) for i in input().strip().split(' '))\n",
    "d=int(input())\n",
    "Rotate2(arr, d)\n",
    "print(*arr)"
   ]
  },
  {
   "cell_type": "code",
   "execution_count": 11,
   "metadata": {},
   "outputs": [
    {
     "name": "stdout",
     "output_type": "stream",
     "text": [
      "9\n",
      "0 7 2 5 4 7 1 3 6\n",
      "7\n"
     ]
    }
   ],
   "source": [
    "def MissingNumber(arr):\n",
    "    sum =0\n",
    "    j=0\n",
    "    while j<len(arr):\n",
    "        sum=sum+arr[j]\n",
    "        j=j+1\n",
    "    z=(n-2)*(n-1)//2\n",
    "    return sum-z\n",
    "    \n",
    "\n",
    "\n",
    "n=int(input())\n",
    "arr=list(int(i) for i in input().strip().split(' '))\n",
    "ans=MissingNumber(arr)\n",
    "print(ans)\n"
   ]
  },
  {
   "cell_type": "code",
   "execution_count": 12,
   "metadata": {},
   "outputs": [
    {
     "name": "stdout",
     "output_type": "stream",
     "text": [
      "7\n",
      "2 3 1 6 3 6 2\n",
      "1\n"
     ]
    }
   ],
   "source": [
    "def FindUnique(arr):\n",
    "    storage = arr[0]\n",
    "    for i in range(1,len(arr)):\n",
    "        storage = storage ^ arr[i]\n",
    "    \n",
    "    return storage\n",
    "\n",
    "n=int(input())\n",
    "arr=list(int(i) for i in input().strip().split(' '))\n",
    "unique=FindUnique(arr)\n",
    "print(unique)\n"
   ]
  },
  {
   "cell_type": "code",
   "execution_count": null,
   "metadata": {},
   "outputs": [],
   "source": [
    "n=int(input())\n",
    "li=[int(x) for x in input().split()]\n",
    "x=int(input())\n",
    "for i in range(len(li)):\n",
    "    j=i+1\n",
    "    while j<len(li):\n",
    "        if li[i]+li[j]==x:\n",
    "            if li[i]<li[j]:\n",
    "                print(li[i],li[j])\n",
    "            else:\n",
    "                print(li[j],li[i])\n",
    "        j=j+1\n",
    "        "
   ]
  },
  {
   "cell_type": "code",
   "execution_count": null,
   "metadata": {},
   "outputs": [],
   "source": [
    "## Read input as specified in the question.\n",
    "## Print output as specified in the question.\n",
    "n=int(input())\n",
    "li=[int(r) for r in input().split()]\n",
    "x=int(input())\n",
    "for i in range(len(li)):\n",
    "    j=i+1\n",
    "    while j<len(li):\n",
    "        a=j+1\n",
    "        while a<len(li):\n",
    "            if li[i]+li[j]+li[a]==x:\n",
    "                m=min(li[i],li[j],li[a])\n",
    "                o=max(li[i],li[j],li[a])\n",
    "                p=x-(m+o)\n",
    "                print(m,p,o)\n",
    "            a=a+1\n",
    "        j=j+1"
   ]
  },
  {
   "cell_type": "code",
   "execution_count": 1,
   "metadata": {},
   "outputs": [
    {
     "name": "stdout",
     "output_type": "stream",
     "text": [
      "20 10 "
     ]
    }
   ],
   "source": [
    "class Node:\n",
    "    def __init__(self, data):\n",
    "        self.data = data\n",
    "        self.next = None\n",
    "def printLL(head):\n",
    "    while head is not None:\n",
    "        print(head.data,end=\" \")\n",
    "        head = head.next\n",
    "\n",
    "\n",
    "\n",
    "node1 = Node(10)\n",
    "node2 = Node(20)\n",
    "node2.next = node1\n",
    "printLL(node2)"
   ]
  },
  {
   "cell_type": "code",
   "execution_count": 6,
   "metadata": {},
   "outputs": [
    {
     "name": "stdout",
     "output_type": "stream",
     "text": [
      "1 --> 2 --> 3 --> 4 --> 5 --> None\n",
      "5 --> 4 --> 3 --> 2 --> 1 --> None\n"
     ]
    }
   ],
   "source": []
  },
  {
   "cell_type": "code",
   "execution_count": null,
   "metadata": {},
   "outputs": [],
   "source": []
  }
 ],
 "metadata": {
  "kernelspec": {
   "display_name": "Python 3",
   "language": "python",
   "name": "python3"
  },
  "language_info": {
   "codemirror_mode": {
    "name": "ipython",
    "version": 3
   },
   "file_extension": ".py",
   "mimetype": "text/x-python",
   "name": "python",
   "nbconvert_exporter": "python",
   "pygments_lexer": "ipython3",
   "version": "3.7.6"
  }
 },
 "nbformat": 4,
 "nbformat_minor": 4
}
