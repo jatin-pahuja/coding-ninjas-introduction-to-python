{
 "cells": [
  {
   "cell_type": "markdown",
   "metadata": {},
   "source": [
    "Bubble Sort"
   ]
  },
  {
   "cell_type": "code",
   "execution_count": 6,
   "metadata": {},
   "outputs": [
    {
     "name": "stdout",
     "output_type": "stream",
     "text": [
      "3\n",
      "6 3 78\n",
      "3 6 78 "
     ]
    }
   ],
   "source": [
    "n=int(input())\n",
    "arr=[int(x) for x in input().split()]\n",
    "\n",
    "def bubbleSort(arr):\n",
    "    \n",
    "    length = len(arr)\n",
    "    # i is for n-1 rounds\n",
    "    # j is for in each round I need to go till length-1-i\n",
    "    for i in range(length-1):\n",
    "        for j in range(length-1-i):\n",
    "            if(arr[j] > arr[j+1]):\n",
    "                temp = arr[j]\n",
    "                arr[j] = arr[j+1]\n",
    "                arr[j+1] = temp\n",
    "\n",
    "\n",
    "bubbleSort(arr)\n",
    "for i in range(len(arr)):\n",
    "    print(arr[i],end=' ')"
   ]
  },
  {
   "cell_type": "code",
   "execution_count": null,
   "metadata": {
    "collapsed": true
   },
   "outputs": [],
   "source": []
  }
 ],
 "metadata": {
  "kernelspec": {
   "display_name": "Python 3",
   "language": "python",
   "name": "python3"
  },
  "language_info": {
   "codemirror_mode": {
    "name": "ipython",
    "version": 3
   },
   "file_extension": ".py",
   "mimetype": "text/x-python",
   "name": "python",
   "nbconvert_exporter": "python",
   "pygments_lexer": "ipython3",
   "version": "3.7.6"
  }
 },
 "nbformat": 4,
 "nbformat_minor": 2
}
