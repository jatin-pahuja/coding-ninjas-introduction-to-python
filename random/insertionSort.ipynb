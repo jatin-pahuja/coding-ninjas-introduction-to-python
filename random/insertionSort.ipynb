{
 "cells": [
  {
   "cell_type": "code",
   "execution_count": 2,
   "metadata": {},
   "outputs": [
    {
     "name": "stdout",
     "output_type": "stream",
     "text": [
      "5\n",
      "2 5 8 2 6\n",
      "2 2 5 6 8 "
     ]
    }
   ],
   "source": [
    "n=int(input())\n",
    "arr=[int(x) for x in input().split()]\n",
    "\n",
    "def insertionSort(arr):\n",
    "    \n",
    "    length = len(arr)\n",
    "    for i in range(1,length):\n",
    "        j=i-1\n",
    "        temp = arr[i]\n",
    "        #Shifting elements till this condition holds\n",
    "        while(j>=0 and arr[j] > temp):\n",
    "            arr[j+1] = arr[j]\n",
    "            j = j - 1\n",
    "        # j+1 is correct position for ith element\n",
    "        arr[j+1] = temp\n",
    "\n",
    "\n",
    "insertionSort(arr)\n",
    "for i in range(len(arr)):\n",
    "    print(arr[i],end=\" \")"
   ]
  },
  {
   "cell_type": "code",
   "execution_count": null,
   "metadata": {
    "collapsed": true
   },
   "outputs": [],
   "source": []
  }
 ],
 "metadata": {
  "kernelspec": {
   "display_name": "Python 3",
   "language": "python",
   "name": "python3"
  },
  "language_info": {
   "codemirror_mode": {
    "name": "ipython",
    "version": 3
   },
   "file_extension": ".py",
   "mimetype": "text/x-python",
   "name": "python",
   "nbconvert_exporter": "python",
   "pygments_lexer": "ipython3",
   "version": "3.7.6"
  }
 },
 "nbformat": 4,
 "nbformat_minor": 2
}
