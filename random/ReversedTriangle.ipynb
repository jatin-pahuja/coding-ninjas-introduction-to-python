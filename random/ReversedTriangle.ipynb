{
 "cells": [
  {
   "cell_type": "raw",
   "metadata": {},
   "source": [
    "****\n",
    "***\n",
    "**\n",
    "*"
   ]
  },
  {
   "cell_type": "code",
   "execution_count": 30,
   "metadata": {},
   "outputs": [
    {
     "name": "stdout",
     "output_type": "stream",
     "text": [
      "4\n",
      "****\n",
      "***\n",
      "**\n",
      "*\n"
     ]
    }
   ],
   "source": [
    "n = int(input())\n",
    "i = 1\n",
    "while i <= n:\n",
    "    j = 1\n",
    "    while j <= n - i + 1:\n",
    "        print(\"*\", end=\"\")\n",
    "        j = j + 1\n",
    "    print()\n",
    "    i = i + 1"
   ]
  },
  {
   "cell_type": "raw",
   "metadata": {},
   "source": [
    "   *\n",
    "  **\n",
    " ***\n",
    "****"
   ]
  },
  {
   "cell_type": "code",
   "execution_count": 47,
   "metadata": {},
   "outputs": [
    {
     "name": "stdout",
     "output_type": "stream",
     "text": [
      "4\n",
      "*\n",
      "0*\n",
      "00*\n",
      "000*\n",
      "*****\n",
      "*****\n",
      "*****\n",
      "*****\n"
     ]
    }
   ],
   "source": [
    "n = int(input())\n",
    "i = 1\n",
    "z=1\n",
    "while i <= n:\n",
    "    spaces=1\n",
    "    while spaces<i:\n",
    "        print(\"0\",end='')\n",
    "        spaces=spaces+1\n",
    "    j = i\n",
    "    while j <= i:\n",
    "        print(\"*\", end= \"\")\n",
    "        j = j + 1\n",
    "    print()\n",
    "    i = i + 1\n",
    "while z <= n:\n",
    "    sp=1\n",
    "    while spaces<z:\n",
    "        print(\"0\",end='')\n",
    "        sp=sp+1\n",
    "    a = 1\n",
    "    while a <= i:\n",
    "        print(\"*\", end= \"\")\n",
    "        a = a + 1\n",
    "    print()\n",
    "    z = z + 1\n"
   ]
  },
  {
   "cell_type": "code",
   "execution_count": 63,
   "metadata": {},
   "outputs": [
    {
     "name": "stdout",
     "output_type": "stream",
     "text": [
      "4\n",
      "***\n",
      "00***0\n",
      "000***00\n",
      "0000***000\n"
     ]
    }
   ],
   "source": [
    "n = int(input())\n",
    "i = 1\n",
    "j = 1\n",
    "while i <= n:\n",
    "    j=1\n",
    "    while j <= i:\n",
    "        if (j==i):\n",
    "            print(\"*\", end= \"\")\n",
    "        else :\n",
    "            print(\"0\",end= \"\")\n",
    "        j = j + 1\n",
    "    j=j-1\n",
    "    print(\"*\", end='')  \n",
    "    while j>=1:    \n",
    "        if i==j:  \n",
    "            print(\"*\", end='')  \n",
    "        else :  \n",
    "            print(\"0\", end='')  \n",
    "        j=j-1  \n",
    "    print()\n",
    "    i = i + 1"
   ]
  },
  {
   "cell_type": "code",
   "execution_count": 66,
   "metadata": {},
   "outputs": [
    {
     "name": "stdout",
     "output_type": "stream",
     "text": [
      "4\n",
      "*000*000*\n",
      "0*00*00*0\n",
      "00*0*0*00\n",
      "000***000\n"
     ]
    }
   ],
   "source": [
    "n=int(input())  \n",
    "i=1  \n",
    "j=1  \n",
    "while i<=n:   \n",
    "    j=1  \n",
    "    while j<=n:       \n",
    "        if i==j:  \n",
    "            print(\"*\", end='')  \n",
    "        else :  \n",
    "            print(\"0\", end='')  \n",
    "        j=j+1  \n",
    "    j=j-1  \n",
    "    print(\"*\", end='', ) \n",
    "    while j>=1:  \n",
    "        if i==j:  \n",
    "            print(\"*\", end='')  \n",
    "        else :  \n",
    "            print(\"0\", end='')  \n",
    "        j=j-1  \n",
    "    print(\"\");  \n",
    "    i=i+1  "
   ]
  },
  {
   "cell_type": "code",
   "execution_count": null,
   "metadata": {},
   "outputs": [],
   "source": []
  }
 ],
 "metadata": {
  "kernelspec": {
   "display_name": "Python 3",
   "language": "python",
   "name": "python3"
  },
  "language_info": {
   "codemirror_mode": {
    "name": "ipython",
    "version": 3
   },
   "file_extension": ".py",
   "mimetype": "text/x-python",
   "name": "python",
   "nbconvert_exporter": "python",
   "pygments_lexer": "ipython3",
   "version": "3.7.6"
  }
 },
 "nbformat": 4,
 "nbformat_minor": 2
}
